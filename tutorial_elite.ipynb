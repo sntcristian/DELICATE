{
 "cells": [
  {
   "cell_type": "markdown",
   "id": "47c87603-147d-4086-ac08-555715b7d1f5",
   "metadata": {},
   "source": [
    "# ELITE NEL Pipeline\n",
    "\n",
    "This notebook shows how to apply the different modules and functions inside the ELITE repository to annotate entities within humanistic documents. The main idea of ELITE is to adopt different State-Of-The-Art components to perform Mention Detection (i.e. Named Entity Recognition) and Entity Disambiguation which are fine-tuned on humanistic documents."
   ]
  },
  {
   "cell_type": "markdown",
   "id": "9689475b-c1ca-4ec2-9850-955b187f17fc",
   "metadata": {},
   "source": [
    "# Data Processing\n",
    "\n",
    "All the components of ELITE process documents which are stored as dictionaries containing a text, optionally with a title and a publication date. Here you can see an example of how to process a document for ELITE."
   ]
  },
  {
   "cell_type": "code",
   "execution_count": 1,
   "id": "9f51888a-ef96-4074-b856-2af344703186",
   "metadata": {},
   "outputs": [
    {
     "name": "stderr",
     "output_type": "stream",
     "text": [
      "C:\\Users\\sntcr\\anaconda3\\envs\\elite2\\lib\\site-packages\\tqdm\\auto.py:21: TqdmWarning: IProgress not found. Please update jupyter and ipywidgets. See https://ipywidgets.readthedocs.io/en/stable/user_install.html\n",
      "  from .autonotebook import tqdm as notebook_tqdm\n"
     ]
    },
    {
     "data": {
      "text/plain": [
       "{'doc_id': 'Lettera di Giacomo Leopardi ad Antonio Fortunato Stella',\n",
       " 'title': 'Lettera di Giacomo Leopardi ad Antonio Fortunato Stella',\n",
       " 'text': \"\\nBologna 26 Marzo 1826\\nSig. ed Amico amatis. e preg.mo\\n\\nRendo risposta alle fav.me sue de' 20 e 22 cor-\\nrente. Son tornato a raccomandare al Moratti l'affar delle spe-\\ndizioni, come fo quasi ogni volta. Ma egli mi risponde sempre di\\nnon aver mancato di spedir subito, e io non so che cosa mi replica-\\nre. Non veggo a che attribuire questi maledettissimi ritardi (i qua-\\nli è più che certo che non provengono nè potrebbero proveni-\\nre da questa censura), se non all'infame negligenza delle diligen-\\nze e delle poste. Se a ciò Ella crede ch'io possa porre qualche\\nriparo, mi scriva il come, e io farò tutto il possibile. Ho ricevuto\\nle nuove prove del Petrarca, e del Cicerone, che consegnerò in-\\nfallibilmente al Moratti quest'altro ordinario, con nuove raccomanda-\\nzioni. La mia intenzione sarebbe di terminare il lavoro del Petrarca\\nper questo autunno, se la salute o altro ostacolo non m'impedirà. Gli\\naltri volumetti della Collezione dei Moralisti conterebbero =Scelta di\\ndiscorsi di Dione Grisostomo.= Idem di Massimo Tirio. = Idem di Pen-\\nsieri filosofici di autori perduti, dalla collezione di Stobeo. = Idem di\\nfavole esopiane di autori greci. = Il Gerone di Senofonte.= Questo è\\nquanto posso dirle fin qui, giacchè io stesso non saprei ancora deter-\\nminarmi circa gli altri, e risolverei in seguito._ Confesso che mi sen-\\nto molto lusingato e superbo del voto favorevole che Ella accor-\\nda alle predilette mie Operette morali. Il ms. è di 311. pagine,\\nprecisamente della forma del ms. d'Isocrate che le ho spedito,\\nscrittura egualmente fitta, di mio carattere. Sarei ben contento\\nse Ella volesse e potesse esserne l'editore. Delle offerte\\n(di cui ella mi domanda) non dobbiamo parlare. Già s'intende che\\nquel poco di buono ch'io ho o posso avere in materie lette-\\nrarie, e che sia di suo uso, dev'esser suo senz'altri discorsi. Sola-\\nmente la prego a darmi una risposta concreta in questo proposito\\ntosto ch'ella potrà. Debbo far[e] a lei ed a tutta la sua fami-\\nglia, i complimenti di Mad. Padovani, che abita ora qui nella mia\\nstessa casa al mio stesso piano. Vi unisco i miei, e, con tutto il\\ncuore abbracciandola, e augurandole ogni contentezza, mi ripeto\\n\\nsuo obbl.mo e cordialiss. s.re ed amico\\nGiacomo Leopardi.\\nAll'Illustriss. Signore\\nIl Sig. Ant. Fortunato Stella\\nMilano\",\n",
       " 'publication_date': '1826-03-26'}"
      ]
     },
     "execution_count": 1,
     "metadata": {},
     "output_type": "execute_result"
    }
   ],
   "source": [
    "from elite.utils import shape_doc\n",
    "\n",
    "title = \"Lettera di Giacomo Leopardi ad Antonio Fortunato Stella\"\n",
    "text = \"\"\"\n",
    "Bologna 26 Marzo 1826\n",
    "Sig. ed Amico amatis. e preg.mo\n",
    "\n",
    "Rendo risposta alle fav.me sue de' 20 e 22 cor-\n",
    "rente. Son tornato a raccomandare al Moratti l'affar delle spe-\n",
    "dizioni, come fo quasi ogni volta. Ma egli mi risponde sempre di\n",
    "non aver mancato di spedir subito, e io non so che cosa mi replica-\n",
    "re. Non veggo a che attribuire questi maledettissimi ritardi (i qua-\n",
    "li è più che certo che non provengono nè potrebbero proveni-\n",
    "re da questa censura), se non all'infame negligenza delle diligen-\n",
    "ze e delle poste. Se a ciò Ella crede ch'io possa porre qualche\n",
    "riparo, mi scriva il come, e io farò tutto il possibile. Ho ricevuto\n",
    "le nuove prove del Petrarca, e del Cicerone, che consegnerò in-\n",
    "fallibilmente al Moratti quest'altro ordinario, con nuove raccomanda-\n",
    "zioni. La mia intenzione sarebbe di terminare il lavoro del Petrarca\n",
    "per questo autunno, se la salute o altro ostacolo non m'impedirà. Gli\n",
    "altri volumetti della Collezione dei Moralisti conterebbero =Scelta di\n",
    "discorsi di Dione Grisostomo.= Idem di Massimo Tirio. = Idem di Pen-\n",
    "sieri filosofici di autori perduti, dalla collezione di Stobeo. = Idem di\n",
    "favole esopiane di autori greci. = Il Gerone di Senofonte.= Questo è\n",
    "quanto posso dirle fin qui, giacchè io stesso non saprei ancora deter-\n",
    "minarmi circa gli altri, e risolverei in seguito._ Confesso che mi sen-\n",
    "to molto lusingato e superbo del voto favorevole che Ella accor-\n",
    "da alle predilette mie Operette morali. Il ms. è di 311. pagine,\n",
    "precisamente della forma del ms. d'Isocrate che le ho spedito,\n",
    "scrittura egualmente fitta, di mio carattere. Sarei ben contento\n",
    "se Ella volesse e potesse esserne l'editore. Delle offerte\n",
    "(di cui ella mi domanda) non dobbiamo parlare. Già s'intende che\n",
    "quel poco di buono ch'io ho o posso avere in materie lette-\n",
    "rarie, e che sia di suo uso, dev'esser suo senz'altri discorsi. Sola-\n",
    "mente la prego a darmi una risposta concreta in questo proposito\n",
    "tosto ch'ella potrà. Debbo far[e] a lei ed a tutta la sua fami-\n",
    "glia, i complimenti di Mad. Padovani, che abita ora qui nella mia\n",
    "stessa casa al mio stesso piano. Vi unisco i miei, e, con tutto il\n",
    "cuore abbracciandola, e augurandole ogni contentezza, mi ripeto\n",
    "\n",
    "suo obbl.mo e cordialiss. s.re ed amico\n",
    "Giacomo Leopardi.\n",
    "All'Illustriss. Signore\n",
    "Il Sig. Ant. Fortunato Stella\n",
    "Milano\"\"\"\n",
    "publication_date = \"1826-03-26\"\n",
    "doc = shape_doc(text, title, publication_date)\n",
    "doc"
   ]
  },
  {
   "cell_type": "markdown",
   "id": "208094b7-f30e-42c3-addf-d0cfd51fe854",
   "metadata": {},
   "source": [
    "# Named Entity Recognition\n",
    "\n",
    "To perform Named Entity Recognition (NER), ELITE relies on the [GliNER](https://github.com/urchade/GLiNER) library. The following snippet shows how to perform NER with a domain-specific model fine-tuned on the Zibaldone. Make sure to have downloaded the models from Zenodo and that the [config.json](./config.json) file inside the repository mentions the correct paths to the models and knowledge base."
   ]
  },
  {
   "cell_type": "code",
   "execution_count": 2,
   "id": "df8b3ff3-1572-4a76-8393-14c2e660417c",
   "metadata": {},
   "outputs": [],
   "source": [
    "from elite.ner import load_ner_model, get_mentions_with_ner"
   ]
  },
  {
   "cell_type": "code",
   "execution_count": 3,
   "id": "7468c51e-3d70-43e0-b1e9-2f2d47a3f334",
   "metadata": {},
   "outputs": [
    {
     "name": "stderr",
     "output_type": "stream",
     "text": [
      "config.json not found in C:\\Users\\sntcr\\OneDrive\\Desktop\\projects\\ELITE\\ELITE_models\\NER\\gliner_dz_b4_e4\n"
     ]
    },
    {
     "data": {
      "text/plain": [
       "{'doc_id': 'Lettera di Giacomo Leopardi ad Antonio Fortunato Stella',\n",
       " 'title': 'Lettera di Giacomo Leopardi ad Antonio Fortunato Stella',\n",
       " 'text': \"\\nBologna 26 Marzo 1826\\nSig. ed Amico amatis. e preg.mo\\n\\nRendo risposta alle fav.me sue de' 20 e 22 cor-\\nrente. Son tornato a raccomandare al Moratti l'affar delle spe-\\ndizioni, come fo quasi ogni volta. Ma egli mi risponde sempre di\\nnon aver mancato di spedir subito, e io non so che cosa mi replica-\\nre. Non veggo a che attribuire questi maledettissimi ritardi (i qua-\\nli è più che certo che non provengono nè potrebbero proveni-\\nre da questa censura), se non all'infame negligenza delle diligen-\\nze e delle poste. Se a ciò Ella crede ch'io possa porre qualche\\nriparo, mi scriva il come, e io farò tutto il possibile. Ho ricevuto\\nle nuove prove del Petrarca, e del Cicerone, che consegnerò in-\\nfallibilmente al Moratti quest'altro ordinario, con nuove raccomanda-\\nzioni. La mia intenzione sarebbe di terminare il lavoro del Petrarca\\nper questo autunno, se la salute o altro ostacolo non m'impedirà. Gli\\naltri volumetti della Collezione dei Moralisti conterebbero =Scelta di\\ndiscorsi di Dione Grisostomo.= Idem di Massimo Tirio. = Idem di Pen-\\nsieri filosofici di autori perduti, dalla collezione di Stobeo. = Idem di\\nfavole esopiane di autori greci. = Il Gerone di Senofonte.= Questo è\\nquanto posso dirle fin qui, giacchè io stesso non saprei ancora deter-\\nminarmi circa gli altri, e risolverei in seguito._ Confesso che mi sen-\\nto molto lusingato e superbo del voto favorevole che Ella accor-\\nda alle predilette mie Operette morali. Il ms. è di 311. pagine,\\nprecisamente della forma del ms. d'Isocrate che le ho spedito,\\nscrittura egualmente fitta, di mio carattere. Sarei ben contento\\nse Ella volesse e potesse esserne l'editore. Delle offerte\\n(di cui ella mi domanda) non dobbiamo parlare. Già s'intende che\\nquel poco di buono ch'io ho o posso avere in materie lette-\\nrarie, e che sia di suo uso, dev'esser suo senz'altri discorsi. Sola-\\nmente la prego a darmi una risposta concreta in questo proposito\\ntosto ch'ella potrà. Debbo far[e] a lei ed a tutta la sua fami-\\nglia, i complimenti di Mad. Padovani, che abita ora qui nella mia\\nstessa casa al mio stesso piano. Vi unisco i miei, e, con tutto il\\ncuore abbracciandola, e augurandole ogni contentezza, mi ripeto\\n\\nsuo obbl.mo e cordialiss. s.re ed amico\\nGiacomo Leopardi.\\nAll'Illustriss. Signore\\nIl Sig. Ant. Fortunato Stella\\nMilano\",\n",
       " 'publication_date': '1826-03-26',\n",
       " 'annotations': [{'doc_id': 'Lettera di Giacomo Leopardi ad Antonio Fortunato Stella',\n",
       "   'surface': 'Bologna',\n",
       "   'start_pos': 1,\n",
       "   'end_pos': 8,\n",
       "   'type': 'LOC'},\n",
       "  {'doc_id': 'Lettera di Giacomo Leopardi ad Antonio Fortunato Stella',\n",
       "   'surface': 'Moratti',\n",
       "   'start_pos': 141,\n",
       "   'end_pos': 148,\n",
       "   'type': 'PER'},\n",
       "  {'doc_id': 'Lettera di Giacomo Leopardi ad Antonio Fortunato Stella',\n",
       "   'surface': 'Petrarca',\n",
       "   'start_pos': 650,\n",
       "   'end_pos': 658,\n",
       "   'type': 'PER'},\n",
       "  {'doc_id': 'Lettera di Giacomo Leopardi ad Antonio Fortunato Stella',\n",
       "   'surface': 'Cicerone',\n",
       "   'start_pos': 666,\n",
       "   'end_pos': 674,\n",
       "   'type': 'PER'},\n",
       "  {'doc_id': 'Lettera di Giacomo Leopardi ad Antonio Fortunato Stella',\n",
       "   'surface': 'Moratti',\n",
       "   'start_pos': 712,\n",
       "   'end_pos': 719,\n",
       "   'type': 'PER'},\n",
       "  {'doc_id': 'Lettera di Giacomo Leopardi ad Antonio Fortunato Stella',\n",
       "   'surface': 'Petrarca',\n",
       "   'start_pos': 825,\n",
       "   'end_pos': 833,\n",
       "   'type': 'PER'},\n",
       "  {'doc_id': 'Lettera di Giacomo Leopardi ad Antonio Fortunato Stella',\n",
       "   'surface': 'Scelta di\\ndiscorsi',\n",
       "   'start_pos': 965,\n",
       "   'end_pos': 983,\n",
       "   'type': 'WORK'},\n",
       "  {'doc_id': 'Lettera di Giacomo Leopardi ad Antonio Fortunato Stella',\n",
       "   'surface': 'Dione Grisostomo',\n",
       "   'start_pos': 987,\n",
       "   'end_pos': 1003,\n",
       "   'type': 'PER'},\n",
       "  {'doc_id': 'Lettera di Giacomo Leopardi ad Antonio Fortunato Stella',\n",
       "   'surface': 'Massimo Tirio',\n",
       "   'start_pos': 1014,\n",
       "   'end_pos': 1027,\n",
       "   'type': 'PER'},\n",
       "  {'doc_id': 'Lettera di Giacomo Leopardi ad Antonio Fortunato Stella',\n",
       "   'surface': 'Stobeo',\n",
       "   'start_pos': 1100,\n",
       "   'end_pos': 1106,\n",
       "   'type': 'PER'},\n",
       "  {'doc_id': 'Lettera di Giacomo Leopardi ad Antonio Fortunato Stella',\n",
       "   'surface': 'Il Gerone',\n",
       "   'start_pos': 1153,\n",
       "   'end_pos': 1162,\n",
       "   'type': 'WORK'},\n",
       "  {'doc_id': 'Lettera di Giacomo Leopardi ad Antonio Fortunato Stella',\n",
       "   'surface': 'Senofonte',\n",
       "   'start_pos': 1166,\n",
       "   'end_pos': 1175,\n",
       "   'type': 'PER'},\n",
       "  {'doc_id': 'Lettera di Giacomo Leopardi ad Antonio Fortunato Stella',\n",
       "   'surface': 'Isocrate',\n",
       "   'start_pos': 1495,\n",
       "   'end_pos': 1503,\n",
       "   'type': 'PER'}]}"
      ]
     },
     "execution_count": 3,
     "metadata": {},
     "output_type": "execute_result"
    }
   ],
   "source": [
    "config_file = \"config.json\"\n",
    "ner_model = load_ner_model(config_file)\n",
    "doc_with_mentions = get_mentions_with_ner(doc, ner_model)\n",
    "doc_with_mentions"
   ]
  },
  {
   "cell_type": "markdown",
   "id": "b09c7043-aa48-4080-b1df-a55afec06a6e",
   "metadata": {},
   "source": [
    "# Entity Linking\n",
    "\n",
    "To perform Entity Linking, ELITE adopts two modules respectively for Candidate Retrieval and Candidate Reranking. The candidate retrieval module is based on a pre-trained bi-encoder language model which performs k-NN search over a vector database of Wikipedia entities. The candidate reranker uses a Gradient Boosted Tree classifier to rerank candidates based on embedding, lexical, type and time similarity."
   ]
  },
  {
   "cell_type": "markdown",
   "id": "53115a16-c71f-49c2-aaf2-6d6eedf6c21c",
   "metadata": {},
   "source": [
    "### Loading Resources for Entity Linking (works also on CPU-only)"
   ]
  },
  {
   "cell_type": "code",
   "execution_count": 4,
   "id": "634ade9e-c21e-479b-a153-afcc18699604",
   "metadata": {},
   "outputs": [
    {
     "name": "stdout",
     "output_type": "stream",
     "text": [
      "Loading biencoder...\n",
      "cpu\n"
     ]
    },
    {
     "name": "stderr",
     "output_type": "stream",
     "text": [
      "C:\\Users\\sntcr\\anaconda3\\envs\\elite2\\lib\\site-packages\\pytorch_transformers\\modeling_utils.py:539: FutureWarning: You are using `torch.load` with `weights_only=False` (the current default value), which uses the default pickle module implicitly. It is possible to construct malicious pickle data which will execute arbitrary code during unpickling (See https://github.com/pytorch/pytorch/blob/main/SECURITY.md#untrusted-models for more details). In a future release, the default value for `weights_only` will be flipped to `True`. This limits the functions that could be executed during unpickling. Arbitrary objects will no longer be allowed to be loaded via this mode unless they are explicitly allowlisted by the user via `torch.serialization.add_safe_globals`. We recommend you start setting `weights_only=True` for any use case where you don't have full control of the loaded file. Please open an issue on GitHub for any issues related to this experimental feature.\n",
      "  state_dict = torch.load(resolved_archive_file, map_location='cpu')\n",
      "C:\\Users\\sntcr\\OneDrive\\Desktop\\projects\\elite\\blink\\biencoder\\biencoder.py:104: FutureWarning: You are using `torch.load` with `weights_only=False` (the current default value), which uses the default pickle module implicitly. It is possible to construct malicious pickle data which will execute arbitrary code during unpickling (See https://github.com/pytorch/pytorch/blob/main/SECURITY.md#untrusted-models for more details). In a future release, the default value for `weights_only` will be flipped to `True`. This limits the functions that could be executed during unpickling. Arbitrary objects will no longer be allowed to be loaded via this mode unless they are explicitly allowlisted by the user via `torch.serialization.add_safe_globals`. We recommend you start setting `weights_only=True` for any use case where you don't have full control of the loaded file. Please open an issue on GitHub for any issues related to this experimental feature.\n",
      "  state_dict = torch.load(fname, map_location=\"cpu\")\n"
     ]
    },
    {
     "name": "stdout",
     "output_type": "stream",
     "text": [
      "Device: cpu\n",
      "Loading complete.\n",
      "Loading index and database...\n",
      "Loading index from: ELITE_models/KB/faiss_hnsw_ita_index.pkl\n",
      "Loading complete.\n",
      "Loading reranker complete.\n"
     ]
    }
   ],
   "source": [
    "from elite.utils import load_from_config\n",
    "biencoder, biencoder_params, indexer, conn, rf_classifier = load_from_config(\"config.json\")"
   ]
  },
  {
   "cell_type": "markdown",
   "id": "914f21cd",
   "metadata": {},
   "source": [
    "### Performing Entity Linking"
   ]
  },
  {
   "cell_type": "code",
   "execution_count": 5,
   "id": "50455f0a-801c-404e-9e3e-4f480d439458",
   "metadata": {},
   "outputs": [
    {
     "name": "stderr",
     "output_type": "stream",
     "text": [
      "C:\\Users\\sntcr\\anaconda3\\envs\\elite2\\lib\\site-packages\\fuzzywuzzy\\fuzz.py:11: UserWarning: Using slow pure-python SequenceMatcher. Install python-Levenshtein to remove this warning\n",
      "  warnings.warn('Using slow pure-python SequenceMatcher. Install python-Levenshtein to remove this warning')\n"
     ]
    },
    {
     "name": "stdout",
     "output_type": "stream",
     "text": [
      "Encoding mentions in document:  Lettera di Giacomo Leopardi ad Antonio Fortunato Stella\n"
     ]
    },
    {
     "name": "stderr",
     "output_type": "stream",
     "text": [
      "100%|████████████████████████████████████████████████████████████████████████████████████| 1/1 [00:03<00:00,  3.96s/it]\n"
     ]
    },
    {
     "name": "stdout",
     "output_type": "stream",
     "text": [
      "Executing kNN search for 13 entities...\n",
      "kNN Search complete.\n"
     ]
    },
    {
     "data": {
      "text/plain": [
       "{'doc_id': 'Lettera di Giacomo Leopardi ad Antonio Fortunato Stella',\n",
       " 'title': 'Lettera di Giacomo Leopardi ad Antonio Fortunato Stella',\n",
       " 'text': \"\\nBologna 26 Marzo 1826\\nSig. ed Amico amatis. e preg.mo\\n\\nRendo risposta alle fav.me sue de' 20 e 22 cor-\\nrente. Son tornato a raccomandare al Moratti l'affar delle spe-\\ndizioni, come fo quasi ogni volta. Ma egli mi risponde sempre di\\nnon aver mancato di spedir subito, e io non so che cosa mi replica-\\nre. Non veggo a che attribuire questi maledettissimi ritardi (i qua-\\nli è più che certo che non provengono nè potrebbero proveni-\\nre da questa censura), se non all'infame negligenza delle diligen-\\nze e delle poste. Se a ciò Ella crede ch'io possa porre qualche\\nriparo, mi scriva il come, e io farò tutto il possibile. Ho ricevuto\\nle nuove prove del Petrarca, e del Cicerone, che consegnerò in-\\nfallibilmente al Moratti quest'altro ordinario, con nuove raccomanda-\\nzioni. La mia intenzione sarebbe di terminare il lavoro del Petrarca\\nper questo autunno, se la salute o altro ostacolo non m'impedirà. Gli\\naltri volumetti della Collezione dei Moralisti conterebbero =Scelta di\\ndiscorsi di Dione Grisostomo.= Idem di Massimo Tirio. = Idem di Pen-\\nsieri filosofici di autori perduti, dalla collezione di Stobeo. = Idem di\\nfavole esopiane di autori greci. = Il Gerone di Senofonte.= Questo è\\nquanto posso dirle fin qui, giacchè io stesso non saprei ancora deter-\\nminarmi circa gli altri, e risolverei in seguito._ Confesso che mi sen-\\nto molto lusingato e superbo del voto favorevole che Ella accor-\\nda alle predilette mie Operette morali. Il ms. è di 311. pagine,\\nprecisamente della forma del ms. d'Isocrate che le ho spedito,\\nscrittura egualmente fitta, di mio carattere. Sarei ben contento\\nse Ella volesse e potesse esserne l'editore. Delle offerte\\n(di cui ella mi domanda) non dobbiamo parlare. Già s'intende che\\nquel poco di buono ch'io ho o posso avere in materie lette-\\nrarie, e che sia di suo uso, dev'esser suo senz'altri discorsi. Sola-\\nmente la prego a darmi una risposta concreta in questo proposito\\ntosto ch'ella potrà. Debbo far[e] a lei ed a tutta la sua fami-\\nglia, i complimenti di Mad. Padovani, che abita ora qui nella mia\\nstessa casa al mio stesso piano. Vi unisco i miei, e, con tutto il\\ncuore abbracciandola, e augurandole ogni contentezza, mi ripeto\\n\\nsuo obbl.mo e cordialiss. s.re ed amico\\nGiacomo Leopardi.\\nAll'Illustriss. Signore\\nIl Sig. Ant. Fortunato Stella\\nMilano\",\n",
       " 'publication_date': '1826-03-26',\n",
       " 'entities': [{'doc_id': 'Lettera di Giacomo Leopardi ad Antonio Fortunato Stella',\n",
       "   'start_pos': 1,\n",
       "   'end_pos': 8,\n",
       "   'surface': 'Bologna',\n",
       "   'type': 'LOC',\n",
       "   'identifier': 'Q1891',\n",
       "   'wiki_title': 'Bologna',\n",
       "   'score': 0.9944179030662598},\n",
       "  {'doc_id': 'Lettera di Giacomo Leopardi ad Antonio Fortunato Stella',\n",
       "   'start_pos': 141,\n",
       "   'end_pos': 148,\n",
       "   'surface': 'Moratti',\n",
       "   'type': 'PER',\n",
       "   'identifier': 'Q571532',\n",
       "   'wiki_title': 'Carlo Amoretti',\n",
       "   'score': 0.5369370684124777},\n",
       "  {'doc_id': 'Lettera di Giacomo Leopardi ad Antonio Fortunato Stella',\n",
       "   'start_pos': 650,\n",
       "   'end_pos': 658,\n",
       "   'surface': 'Petrarca',\n",
       "   'type': 'PER',\n",
       "   'identifier': 'Q1401',\n",
       "   'wiki_title': 'Francesco Petrarca',\n",
       "   'score': 0.9990949086753474},\n",
       "  {'doc_id': 'Lettera di Giacomo Leopardi ad Antonio Fortunato Stella',\n",
       "   'start_pos': 666,\n",
       "   'end_pos': 674,\n",
       "   'surface': 'Cicerone',\n",
       "   'type': 'PER',\n",
       "   'identifier': 'Q1541',\n",
       "   'wiki_title': 'Marco Tullio Cicerone',\n",
       "   'score': 0.999724591390994},\n",
       "  {'doc_id': 'Lettera di Giacomo Leopardi ad Antonio Fortunato Stella',\n",
       "   'start_pos': 712,\n",
       "   'end_pos': 719,\n",
       "   'surface': 'Moratti',\n",
       "   'type': 'PER',\n",
       "   'identifier': 'Q9654039',\n",
       "   'wiki_title': 'Benedetto Fioretti',\n",
       "   'score': 0.7960974229236979},\n",
       "  {'doc_id': 'Lettera di Giacomo Leopardi ad Antonio Fortunato Stella',\n",
       "   'start_pos': 825,\n",
       "   'end_pos': 833,\n",
       "   'surface': 'Petrarca',\n",
       "   'type': 'PER',\n",
       "   'identifier': 'Q1401',\n",
       "   'wiki_title': 'Francesco Petrarca',\n",
       "   'score': 0.9995446437603578},\n",
       "  {'doc_id': 'Lettera di Giacomo Leopardi ad Antonio Fortunato Stella',\n",
       "   'start_pos': 965,\n",
       "   'end_pos': 983,\n",
       "   'surface': 'Scelta di\\ndiscorsi',\n",
       "   'type': 'WORK',\n",
       "   'identifier': 'Q3661047',\n",
       "   'wiki_title': 'Discorsi a tavola',\n",
       "   'score': 0.5238765744909404},\n",
       "  {'doc_id': 'Lettera di Giacomo Leopardi ad Antonio Fortunato Stella',\n",
       "   'start_pos': 987,\n",
       "   'end_pos': 1003,\n",
       "   'surface': 'Dione Grisostomo',\n",
       "   'type': 'PER',\n",
       "   'identifier': 'Q334457',\n",
       "   'wiki_title': 'Dione Crisostomo',\n",
       "   'score': 0.9971291579576825},\n",
       "  {'doc_id': 'Lettera di Giacomo Leopardi ad Antonio Fortunato Stella',\n",
       "   'start_pos': 1014,\n",
       "   'end_pos': 1027,\n",
       "   'surface': 'Massimo Tirio',\n",
       "   'type': 'PER',\n",
       "   'identifier': 'Q456649',\n",
       "   'wiki_title': 'Massimo di Tiro',\n",
       "   'score': 0.8806377999841375},\n",
       "  {'doc_id': 'Lettera di Giacomo Leopardi ad Antonio Fortunato Stella',\n",
       "   'start_pos': 1100,\n",
       "   'end_pos': 1106,\n",
       "   'surface': 'Stobeo',\n",
       "   'type': 'PER',\n",
       "   'identifier': 'Q444079',\n",
       "   'wiki_title': 'Giovanni Stobeo',\n",
       "   'score': 0.990375527029106},\n",
       "  {'doc_id': 'Lettera di Giacomo Leopardi ad Antonio Fortunato Stella',\n",
       "   'start_pos': 1153,\n",
       "   'end_pos': 1162,\n",
       "   'surface': 'Il Gerone',\n",
       "   'type': 'WORK',\n",
       "   'identifier': 'Q3817873',\n",
       "   'wiki_title': \"L'Adone\",\n",
       "   'score': 0.6847656747596399},\n",
       "  {'doc_id': 'Lettera di Giacomo Leopardi ad Antonio Fortunato Stella',\n",
       "   'start_pos': 1166,\n",
       "   'end_pos': 1175,\n",
       "   'surface': 'Senofonte',\n",
       "   'type': 'PER',\n",
       "   'identifier': 'Q129772',\n",
       "   'wiki_title': 'Senofonte',\n",
       "   'score': 0.9947403002856471},\n",
       "  {'doc_id': 'Lettera di Giacomo Leopardi ad Antonio Fortunato Stella',\n",
       "   'start_pos': 1495,\n",
       "   'end_pos': 1503,\n",
       "   'surface': 'Isocrate',\n",
       "   'type': 'PER',\n",
       "   'identifier': 'Q221182',\n",
       "   'wiki_title': 'Isocrate',\n",
       "   'score': 0.9995649908199665}]}"
      ]
     },
     "execution_count": 5,
     "metadata": {},
     "output_type": "execute_result"
    }
   ],
   "source": [
    "from elite.reranker import disambiguate_mentions_and_rerank\n",
    "doc_with_entities = disambiguate_mentions_and_rerank(doc_with_mentions, biencoder, biencoder_params,\n",
    "                                                         indexer, conn,\n",
    "                                                         rf_classifier, top_k = 50,\n",
    "                                                         threshold_nil=0.5)\n",
    "doc_with_entities"
   ]
  },
  {
   "cell_type": "markdown",
   "id": "66214f0a-8b52-432d-a14e-c312da904032",
   "metadata": {},
   "source": [
    "# Convert Annotated Document in HTML\n",
    "\n",
    "For further text editing purposes, it is possible to use ELITE's built-in functions to convert an annotated dictionary into an HTML string."
   ]
  },
  {
   "cell_type": "code",
   "execution_count": 6,
   "id": "ea6e87d4-ca77-45c1-af06-bb7467853146",
   "metadata": {},
   "outputs": [
    {
     "data": {
      "text/plain": [
       "'\\n    <html>\\n    <head>\\n        <title>Lettera di Giacomo Leopardi ad Antonio Fortunato Stella</title>\\n        <meta charset=\"utf-8\">\\n        <meta name=\"publication_date\" content=\"1826-03-26\">\\n        <style>\\n            .person { color: blue; }\\n            .work { color: green; }\\n            .location { color: orange; }\\n            .organization { color: red; }\\n        </style>\\n    </head>\\n    <body>\\n        <h1>Lettera di Giacomo Leopardi ad Antonio Fortunato Stella</h1>\\n        <p>\\n<a href=\"https://www.wikidata.org/wiki/Q1891\" class=\"location\" target=\"_blank\">Bologna</a> 26 Marzo 1826\\nSig. ed Amico amatis. e preg.mo\\n\\nRendo risposta alle fav.me sue de\\' 20 e 22 cor-\\nrente. Son tornato a raccomandare al <a href=\"https://www.wikidata.org/wiki/Q571532\" class=\"person\" target=\"_blank\">Moratti</a> l\\'affar delle spe-\\ndizioni, come fo quasi ogni volta. Ma egli mi risponde sempre di\\nnon aver mancato di spedir subito, e io non so che cosa mi replica-\\nre. Non veggo a che attribuire questi maledettissimi ritardi (i qua-\\nli è più che certo che non provengono nè potrebbero proveni-\\nre da questa censura), se non all\\'infame negligenza delle diligen-\\nze e delle poste. Se a ciò Ella crede ch\\'io possa porre qualche\\nriparo, mi scriva il come, e io farò tutto il possibile. Ho ricevuto\\nle nuove prove del <a href=\"https://www.wikidata.org/wiki/Q1401\" class=\"person\" target=\"_blank\">Petrarca</a>, e del <a href=\"https://www.wikidata.org/wiki/Q1541\" class=\"person\" target=\"_blank\">Cicerone</a>, che consegnerò in-\\nfallibilmente al <a href=\"https://www.wikidata.org/wiki/Q9654039\" class=\"person\" target=\"_blank\">Moratti</a> quest\\'altro ordinario, con nuove raccomanda-\\nzioni. La mia intenzione sarebbe di terminare il lavoro del <a href=\"https://www.wikidata.org/wiki/Q1401\" class=\"person\" target=\"_blank\">Petrarca</a>\\nper questo autunno, se la salute o altro ostacolo non m\\'impedirà. Gli\\naltri volumetti della Collezione dei Moralisti conterebbero =<a href=\"https://www.wikidata.org/wiki/Q3661047\" class=\"work\" target=\"_blank\">Scelta di\\ndiscorsi</a> di <a href=\"https://www.wikidata.org/wiki/Q334457\" class=\"person\" target=\"_blank\">Dione Grisostomo</a>.= Idem di <a href=\"https://www.wikidata.org/wiki/Q456649\" class=\"person\" target=\"_blank\">Massimo Tirio</a>. = Idem di Pen-\\nsieri filosofici di autori perduti, dalla collezione di <a href=\"https://www.wikidata.org/wiki/Q444079\" class=\"person\" target=\"_blank\">Stobeo</a>. = Idem di\\nfavole esopiane di autori greci. = <a href=\"https://www.wikidata.org/wiki/Q3817873\" class=\"work\" target=\"_blank\">Il Gerone</a> di <a href=\"https://www.wikidata.org/wiki/Q129772\" class=\"person\" target=\"_blank\">Senofonte</a>.= Questo è\\nquanto posso dirle fin qui, giacchè io stesso non saprei ancora deter-\\nminarmi circa gli altri, e risolverei in seguito._ Confesso che mi sen-\\nto molto lusingato e superbo del voto favorevole che Ella accor-\\nda alle predilette mie Operette morali. Il ms. è di 311. pagine,\\nprecisamente della forma del ms. d\\'<a href=\"https://www.wikidata.org/wiki/Q221182\" class=\"person\" target=\"_blank\">Isocrate</a> che le ho spedito,\\nscrittura egualmente fitta, di mio carattere. Sarei ben contento\\nse Ella volesse e potesse esserne l\\'editore. Delle offerte\\n(di cui ella mi domanda) non dobbiamo parlare. Già s\\'intende che\\nquel poco di buono ch\\'io ho o posso avere in materie lette-\\nrarie, e che sia di suo uso, dev\\'esser suo senz\\'altri discorsi. Sola-\\nmente la prego a darmi una risposta concreta in questo proposito\\ntosto ch\\'ella potrà. Debbo far[e] a lei ed a tutta la sua fami-\\nglia, i complimenti di Mad. Padovani, che abita ora qui nella mia\\nstessa casa al mio stesso piano. Vi unisco i miei, e, con tutto il\\ncuore abbracciandola, e augurandole ogni contentezza, mi ripeto\\n\\nsuo obbl.mo e cordialiss. s.re ed amico\\nGiacomo Leopardi.\\nAll\\'Illustriss. Signore\\nIl Sig. Ant. Fortunato Stella\\nMilano</p>\\n    </body>\\n    </html>\\n    '"
      ]
     },
     "execution_count": 6,
     "metadata": {},
     "output_type": "execute_result"
    }
   ],
   "source": [
    "from elite.utils import generate_html_from_json\n",
    "\n",
    "html_content = generate_html_from_json(doc_with_entities)\n",
    "html_content"
   ]
  }
 ],
 "metadata": {
  "kernelspec": {
   "display_name": "Python 3 (ipykernel)",
   "language": "python",
   "name": "python3"
  },
  "language_info": {
   "codemirror_mode": {
    "name": "ipython",
    "version": 3
   },
   "file_extension": ".py",
   "mimetype": "text/x-python",
   "name": "python",
   "nbconvert_exporter": "python",
   "pygments_lexer": "ipython3",
   "version": "3.9.21"
  }
 },
 "nbformat": 4,
 "nbformat_minor": 5
}
